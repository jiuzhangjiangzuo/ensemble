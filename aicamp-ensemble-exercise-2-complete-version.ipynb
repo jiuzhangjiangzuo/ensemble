{
 "cells": [
  {
   "cell_type": "markdown",
   "metadata": {
    "_cell_guid": "27ae78be-d485-4a36-8e75-b9db0d6afc17",
    "_uuid": "15f37343ac03214af161577ad854297cca69e698",
    "collapsed": true
   },
   "source": [
    "## 随机森林的直接调用  \n",
    "\n",
    "#### 这一节课我们利用现成的随机森林库函数对蘑菇进行有毒和无毒的简单分类   \n",
    "\n",
    "- 数据来源： https://www.kaggle.com/uciml/mushroom-classification/data  \n",
    "- 对比模型： 随机森林，决策树，Logistic回归模型"
   ]
  },
  {
   "cell_type": "code",
   "execution_count": 3,
   "metadata": {
    "_cell_guid": "66f0d32e-7e64-4247-b30a-6f2506ab8a87",
    "_uuid": "81585957d9fb83c21a6e9fe3c2616faca64d6ae7"
   },
   "outputs": [],
   "source": [
    "\n",
    "%matplotlib inline\n",
    "import os\n",
    "import numpy as np\n",
    "import pandas as pd\n",
    "import matplotlib.pyplot as plt\n",
    "\n",
    "from sklearn.preprocessing import LabelEncoder, StandardScaler\n",
    "from sklearn.ensemble import RandomForestClassifier\n",
    "from sklearn.tree import DecisionTreeClassifier\n",
    "from sklearn.linear_model import LogisticRegression\n",
    "from sklearn.model_selection import cross_val_score\n",
    "\n",
    "np.random.seed(19)"
   ]
  },
  {
   "cell_type": "markdown",
   "metadata": {
    "_cell_guid": "08385ce2-ef5e-40c5-984e-ee99d8e9be50",
    "_uuid": "5674cb8de6a63b737aee0f92c37317e09aea33f8"
   },
   "source": [
    "### 读入数据"
   ]
  },
  {
   "cell_type": "code",
   "execution_count": 4,
   "metadata": {
    "_cell_guid": "dfe9a941-a6bf-47bf-9724-07c1a2bb12b9",
    "_uuid": "50504f95c9a7b933566d1532a93f76dc2d3b16f2"
   },
   "outputs": [],
   "source": [
    "data_folder = \"\"\n",
    "data = pd.read_csv(os.path.join(data_folder, \"mushrooms.csv\"), header=None)\n"
   ]
  },
  {
   "cell_type": "code",
   "execution_count": 5,
   "metadata": {
    "_cell_guid": "6b818ab3-e979-4e1e-865e-4498e1ac6ee7",
    "_uuid": "d3ded1f87737707931afcdddb668728e8d35e0df"
   },
   "outputs": [
    {
     "data": {
      "text/html": [
       "<div>\n",
       "<style scoped>\n",
       "    .dataframe tbody tr th:only-of-type {\n",
       "        vertical-align: middle;\n",
       "    }\n",
       "\n",
       "    .dataframe tbody tr th {\n",
       "        vertical-align: top;\n",
       "    }\n",
       "\n",
       "    .dataframe thead th {\n",
       "        text-align: right;\n",
       "    }\n",
       "</style>\n",
       "<table border=\"1\" class=\"dataframe\">\n",
       "  <thead>\n",
       "    <tr style=\"text-align: right;\">\n",
       "      <th></th>\n",
       "      <th>0</th>\n",
       "      <th>1</th>\n",
       "      <th>2</th>\n",
       "      <th>3</th>\n",
       "      <th>4</th>\n",
       "      <th>5</th>\n",
       "      <th>6</th>\n",
       "      <th>7</th>\n",
       "      <th>8</th>\n",
       "      <th>9</th>\n",
       "      <th>...</th>\n",
       "      <th>13</th>\n",
       "      <th>14</th>\n",
       "      <th>15</th>\n",
       "      <th>16</th>\n",
       "      <th>17</th>\n",
       "      <th>18</th>\n",
       "      <th>19</th>\n",
       "      <th>20</th>\n",
       "      <th>21</th>\n",
       "      <th>22</th>\n",
       "    </tr>\n",
       "  </thead>\n",
       "  <tbody>\n",
       "    <tr>\n",
       "      <th>0</th>\n",
       "      <td>class</td>\n",
       "      <td>cap-shape</td>\n",
       "      <td>cap-surface</td>\n",
       "      <td>cap-color</td>\n",
       "      <td>bruises</td>\n",
       "      <td>odor</td>\n",
       "      <td>gill-attachment</td>\n",
       "      <td>gill-spacing</td>\n",
       "      <td>gill-size</td>\n",
       "      <td>gill-color</td>\n",
       "      <td>...</td>\n",
       "      <td>stalk-surface-below-ring</td>\n",
       "      <td>stalk-color-above-ring</td>\n",
       "      <td>stalk-color-below-ring</td>\n",
       "      <td>veil-type</td>\n",
       "      <td>veil-color</td>\n",
       "      <td>ring-number</td>\n",
       "      <td>ring-type</td>\n",
       "      <td>spore-print-color</td>\n",
       "      <td>population</td>\n",
       "      <td>habitat</td>\n",
       "    </tr>\n",
       "    <tr>\n",
       "      <th>1</th>\n",
       "      <td>p</td>\n",
       "      <td>x</td>\n",
       "      <td>s</td>\n",
       "      <td>n</td>\n",
       "      <td>t</td>\n",
       "      <td>p</td>\n",
       "      <td>f</td>\n",
       "      <td>c</td>\n",
       "      <td>n</td>\n",
       "      <td>k</td>\n",
       "      <td>...</td>\n",
       "      <td>s</td>\n",
       "      <td>w</td>\n",
       "      <td>w</td>\n",
       "      <td>p</td>\n",
       "      <td>w</td>\n",
       "      <td>o</td>\n",
       "      <td>p</td>\n",
       "      <td>k</td>\n",
       "      <td>s</td>\n",
       "      <td>u</td>\n",
       "    </tr>\n",
       "    <tr>\n",
       "      <th>2</th>\n",
       "      <td>e</td>\n",
       "      <td>x</td>\n",
       "      <td>s</td>\n",
       "      <td>y</td>\n",
       "      <td>t</td>\n",
       "      <td>a</td>\n",
       "      <td>f</td>\n",
       "      <td>c</td>\n",
       "      <td>b</td>\n",
       "      <td>k</td>\n",
       "      <td>...</td>\n",
       "      <td>s</td>\n",
       "      <td>w</td>\n",
       "      <td>w</td>\n",
       "      <td>p</td>\n",
       "      <td>w</td>\n",
       "      <td>o</td>\n",
       "      <td>p</td>\n",
       "      <td>n</td>\n",
       "      <td>n</td>\n",
       "      <td>g</td>\n",
       "    </tr>\n",
       "    <tr>\n",
       "      <th>3</th>\n",
       "      <td>e</td>\n",
       "      <td>b</td>\n",
       "      <td>s</td>\n",
       "      <td>w</td>\n",
       "      <td>t</td>\n",
       "      <td>l</td>\n",
       "      <td>f</td>\n",
       "      <td>c</td>\n",
       "      <td>b</td>\n",
       "      <td>n</td>\n",
       "      <td>...</td>\n",
       "      <td>s</td>\n",
       "      <td>w</td>\n",
       "      <td>w</td>\n",
       "      <td>p</td>\n",
       "      <td>w</td>\n",
       "      <td>o</td>\n",
       "      <td>p</td>\n",
       "      <td>n</td>\n",
       "      <td>n</td>\n",
       "      <td>m</td>\n",
       "    </tr>\n",
       "    <tr>\n",
       "      <th>4</th>\n",
       "      <td>p</td>\n",
       "      <td>x</td>\n",
       "      <td>y</td>\n",
       "      <td>w</td>\n",
       "      <td>t</td>\n",
       "      <td>p</td>\n",
       "      <td>f</td>\n",
       "      <td>c</td>\n",
       "      <td>n</td>\n",
       "      <td>n</td>\n",
       "      <td>...</td>\n",
       "      <td>s</td>\n",
       "      <td>w</td>\n",
       "      <td>w</td>\n",
       "      <td>p</td>\n",
       "      <td>w</td>\n",
       "      <td>o</td>\n",
       "      <td>p</td>\n",
       "      <td>k</td>\n",
       "      <td>s</td>\n",
       "      <td>u</td>\n",
       "    </tr>\n",
       "  </tbody>\n",
       "</table>\n",
       "<p>5 rows × 23 columns</p>\n",
       "</div>"
      ],
      "text/plain": [
       "      0          1            2          3        4     5                6   \\\n",
       "0  class  cap-shape  cap-surface  cap-color  bruises  odor  gill-attachment   \n",
       "1      p          x            s          n        t     p                f   \n",
       "2      e          x            s          y        t     a                f   \n",
       "3      e          b            s          w        t     l                f   \n",
       "4      p          x            y          w        t     p                f   \n",
       "\n",
       "             7          8           9   ...                        13  \\\n",
       "0  gill-spacing  gill-size  gill-color  ...  stalk-surface-below-ring   \n",
       "1             c          n           k  ...                         s   \n",
       "2             c          b           k  ...                         s   \n",
       "3             c          b           n  ...                         s   \n",
       "4             c          n           n  ...                         s   \n",
       "\n",
       "                       14                      15         16          17  \\\n",
       "0  stalk-color-above-ring  stalk-color-below-ring  veil-type  veil-color   \n",
       "1                       w                       w          p           w   \n",
       "2                       w                       w          p           w   \n",
       "3                       w                       w          p           w   \n",
       "4                       w                       w          p           w   \n",
       "\n",
       "            18         19                 20          21       22  \n",
       "0  ring-number  ring-type  spore-print-color  population  habitat  \n",
       "1            o          p                  k           s        u  \n",
       "2            o          p                  n           n        g  \n",
       "3            o          p                  n           n        m  \n",
       "4            o          p                  k           s        u  \n",
       "\n",
       "[5 rows x 23 columns]"
      ]
     },
     "execution_count": 5,
     "metadata": {},
     "output_type": "execute_result"
    }
   ],
   "source": [
    "data.head()"
   ]
  },
  {
   "cell_type": "markdown",
   "metadata": {
    "_cell_guid": "32b11d62-b251-4edd-979d-22c7e16fbdc1",
    "_uuid": "3cf991f30db17a1326e623dfc9e36562a31b93af"
   },
   "source": [
    "### 处理二分类问题的标签"
   ]
  },
  {
   "cell_type": "code",
   "execution_count": 6,
   "metadata": {
    "_cell_guid": "c727d84e-9b27-42b9-a165-317c506b4ba2",
    "_uuid": "5917db08fe8371c651865d00177acc6db2d23140"
   },
   "outputs": [],
   "source": [
    "data[0] = data.apply(lambda row: 0 if row[0] == 'e' else 1, axis=1)"
   ]
  },
  {
   "cell_type": "markdown",
   "metadata": {
    "_cell_guid": "c6c0bec7-23ed-48e3-be65-135c75249ef7",
    "_uuid": "1277df91dc2ecca7d9a1ab5885d80f8452b4f975"
   },
   "source": [
    "### 处理每列的数据"
   ]
  },
  {
   "cell_type": "code",
   "execution_count": 7,
   "metadata": {
    "_cell_guid": "77326148-94f8-40ee-9103-c96f68d9d8d4",
    "_uuid": "0611c2e8d97e963d397c9495fee635a237393cae"
   },
   "outputs": [],
   "source": [
    "# 每一列如果有null，用\"missing\"代替\n",
    "cols = np.arange(1,23)\n",
    "for col in cols:\n",
    "    if np.any(data[col].isnull()):\n",
    "        data.loc[data[col].isnull(), col] = 'missing'\n"
   ]
  },
  {
   "cell_type": "code",
   "execution_count": 8,
   "metadata": {
    "_cell_guid": "deefaf4b-12b4-43e4-9227-3d6893b0b6af",
    "_uuid": "c34bf0957abc2bc4bc8400d31b8fabb30fe41023"
   },
   "outputs": [
    {
     "name": "stdout",
     "output_type": "stream",
     "text": [
      "dimensionality:  161\n"
     ]
    }
   ],
   "source": [
    "labelEncoders = dict()\n",
    "\n",
    "# 对每一列进行one hot encoding\n",
    "for col in cols:\n",
    "    encoder = LabelEncoder()\n",
    "    values = data[col].tolist()\n",
    "    values.append('missing')  #加入missing这种值\n",
    "    encoder.fit(values)\n",
    "    labelEncoders[col] = encoder\n",
    "\n",
    "# 计算one hot encoding之后的列数\n",
    "dimensionality = 0\n",
    "for col, encoder in labelEncoders.items():\n",
    "    dimensionality += len(encoder.classes_)\n",
    "print(\"dimensionality:  %d\" % (dimensionality))"
   ]
  },
  {
   "cell_type": "code",
   "execution_count": 9,
   "metadata": {
    "_cell_guid": "61b851bc-c588-41de-90a1-89ed8fac0d26",
    "_uuid": "19844174200c921ee2df909659dc5d69e2d8b0de"
   },
   "outputs": [],
   "source": [
    "# 用于测试数据的变换\n",
    "def transform(df):\n",
    "    N, _ = df.shape\n",
    "    X = np.zeros((N, dimensionality))\n",
    "    i = 0\n",
    "    for col ,encoder in labelEncoders.items():\n",
    "        k = len(encoder.classes_)\n",
    "        X[np.arange(N), encoder.transform(df[col]) + i] = 1\n",
    "        i += k\n",
    "    return X"
   ]
  },
  {
   "cell_type": "code",
   "execution_count": 12,
   "metadata": {
    "_cell_guid": "e8b11ffc-4f41-4311-8405-a12421b348df",
    "_uuid": "9e91a5e2119ca488c58a30f1ef490985e59c99fc"
   },
   "outputs": [],
   "source": [
    "# 准备数据和标签\n",
    "X = transform(data.iloc[:,1:])\n",
    "Y = data[0].to_numpy()"
   ]
  },
  {
   "cell_type": "markdown",
   "metadata": {
    "_cell_guid": "27cf7d9f-7434-42ad-9c62-cecece31579c",
    "_uuid": "9462ff57770b47d45f998e28bf9b3fc7f55c5d79"
   },
   "source": [
    "### Logistic回归的表现"
   ]
  },
  {
   "cell_type": "code",
   "execution_count": 13,
   "metadata": {
    "_cell_guid": "a226804f-8a18-438e-b69e-1ee918447c50",
    "_uuid": "e0aa02b4e8076fef2aa1ef27b8a6b47d7e2928fa"
   },
   "outputs": [
    {
     "name": "stdout",
     "output_type": "stream",
     "text": [
      "logistic Regression performance: 0.925634\n"
     ]
    }
   ],
   "source": [
    "logistic_model = LogisticRegression()\n",
    "print(\"logistic Regression performance: %f\" % (cross_val_score(logistic_model, X, Y, cv=8).mean()))"
   ]
  },
  {
   "cell_type": "markdown",
   "metadata": {
    "_cell_guid": "321fedec-b3e9-4de5-8f82-44b63fc26f75",
    "_uuid": "aa577dc653ae98716fcf735e81fab784efce724e"
   },
   "source": [
    "### 决策树的表现"
   ]
  },
  {
   "cell_type": "code",
   "execution_count": 14,
   "metadata": {
    "_cell_guid": "be80d76a-2d2d-474c-87b3-10e2b1788360",
    "_uuid": "0a34233656b505f1227b71d51a0071ec63f60d08"
   },
   "outputs": [
    {
     "name": "stdout",
     "output_type": "stream",
     "text": [
      "Decision Tree performance: 0.930819\n"
     ]
    }
   ],
   "source": [
    "tree_model = DecisionTreeClassifier()\n",
    "print(\"Decision Tree performance: %f\" % (cross_val_score(tree_model, X, Y, cv=8).mean()))"
   ]
  },
  {
   "cell_type": "markdown",
   "metadata": {
    "_cell_guid": "12c4a293-1440-49b6-8b6e-1d1a1632b72a",
    "_uuid": "71685809dd075e7a77f5c0593d3c8623bf8eb0a5"
   },
   "source": [
    "### 随机森林的表现"
   ]
  },
  {
   "cell_type": "code",
   "execution_count": 15,
   "metadata": {
    "_cell_guid": "544d8a71-adc8-49a4-8777-606734fd5bfb",
    "_uuid": "b6b4d15d2577463017c47b02ea89c9e92b3c2222"
   },
   "outputs": [
    {
     "name": "stdout",
     "output_type": "stream",
     "text": [
      "Random Forest performance: 0.945475\n"
     ]
    }
   ],
   "source": [
    "forest = RandomForestClassifier(n_estimators=20)\n",
    "print(\"Random Forest performance: %f\" % (cross_val_score(tree_model, X, Y, cv=8).mean()))"
   ]
  },
  {
   "cell_type": "code",
   "execution_count": null,
   "metadata": {
    "_cell_guid": "2dee0147-fb41-4123-b1f9-95ba54d2f02b",
    "_uuid": "fa89739ab6a872d0a2469ba90f0fce17c59471f1"
   },
   "outputs": [],
   "source": []
  },
  {
   "cell_type": "markdown",
   "metadata": {
    "_cell_guid": "7dad89dc-bc2f-4e89-b3e2-ab69b4e5b3f0",
    "_uuid": "975f72e165a5978f84efc7553f990d501e060c8b"
   },
   "source": [
    "### Bagging决策树的实现"
   ]
  },
  {
   "cell_type": "code",
   "execution_count": 49,
   "metadata": {
    "_cell_guid": "2278cc19-b7b1-4a75-9c52-40c88ad9ce13",
    "_uuid": "09d6d553d0b5e60efa69d53a6813020fe95b8434"
   },
   "outputs": [],
   "source": [
    "class BaggedTreeClassifier(BaseEstimator):\n",
    "    def __init__(self, M):\n",
    "        self.M = M\n",
    "\n",
    "    def fit(self, X, Y):\n",
    "        N = len(X)\n",
    "        self.models = []\n",
    "        for m in range(self.M):\n",
    "            idx = np.random.choice(N, size=N, replace=True)\n",
    "            Xb = X[idx]\n",
    "            Yb = Y[idx]\n",
    "\n",
    "            model = DecisionTreeClassifier(max_depth=2)\n",
    "            model.fit(Xb, Yb)\n",
    "            self.models.append(model)\n",
    "\n",
    "    def predict(self, X):\n",
    "        # no need to keep a dictionary since we are doing binary classification\n",
    "        predictions = np.zeros(len(X))\n",
    "        for model in self.models:\n",
    "            predictions += model.predict(X)\n",
    "        return np.round(predictions / self.M)\n",
    "\n",
    "    def score(self, X, Y):\n",
    "        P = self.predict(X)\n",
    "        return np.mean(Y == P)"
   ]
  },
  {
   "cell_type": "code",
   "execution_count": 19,
   "metadata": {
    "_cell_guid": "479aa0de-ca84-4c07-9c6f-ecfe77621c79",
    "_uuid": "ab5bf1759d6516030a713012b903c29a870828fa"
   },
   "outputs": [],
   "source": [
    "baggedtc = BaggedTreeClassifier(20)"
   ]
  },
  {
   "cell_type": "code",
   "execution_count": 20,
   "metadata": {
    "_cell_guid": "35c259de-c344-4fb1-9a2b-baa875fb5d30",
    "_uuid": "7b0a7616e4a4afb56fb325c3557fa7f0a63a3ca1"
   },
   "outputs": [
    {
     "data": {
      "text/plain": [
       "0.9055898723866413"
      ]
     },
     "execution_count": 20,
     "metadata": {},
     "output_type": "execute_result"
    }
   ],
   "source": [
    "cross_val_score(baggedtc, X, Y, cv=8).mean()"
   ]
  },
  {
   "cell_type": "code",
   "execution_count": 21,
   "metadata": {
    "_cell_guid": "0ad9f308-2fa5-4703-bc0f-e671db53e014",
    "_uuid": "0cc611bb25ddfe2a1f4c9563bb87309c912a7a45"
   },
   "outputs": [],
   "source": [
    "fakerf = FakeRandomForest(20)"
   ]
  },
  {
   "cell_type": "code",
   "execution_count": 22,
   "metadata": {
    "_cell_guid": "ff27421e-3a94-4832-8ea6-5f71de11494c",
    "_uuid": "16ea33f8e6f2450932b8aede058300ca52c53e63"
   },
   "outputs": [
    {
     "data": {
      "text/plain": [
       "0.8887257088553586"
      ]
     },
     "execution_count": 22,
     "metadata": {},
     "output_type": "execute_result"
    }
   ],
   "source": [
    "cross_val_score(fakerf, X, Y, cv=8).mean()"
   ]
  }
 ],
 "metadata": {
  "kernelspec": {
   "display_name": "Python 3",
   "language": "python",
   "name": "python3"
  },
  "language_info": {
   "codemirror_mode": {
    "name": "ipython",
    "version": 3
   },
   "file_extension": ".py",
   "mimetype": "text/x-python",
   "name": "python",
   "nbconvert_exporter": "python",
   "pygments_lexer": "ipython3",
   "version": "3.8.2"
  }
 },
 "nbformat": 4,
 "nbformat_minor": 4
}
