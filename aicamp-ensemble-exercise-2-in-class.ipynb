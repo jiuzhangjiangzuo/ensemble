{
 "cells": [
  {
   "cell_type": "markdown",
   "metadata": {
    "_cell_guid": "eafdfc76-e568-4190-9e56-569e78ad1323",
    "_uuid": "8faccdc4917c77e450aa81cef548091b2656d3f7",
    "collapsed": true
   },
   "source": [
    "## 随机森林的直接调用  \n",
    "\n",
    "#### 这一节课我们利用现成的随机森林库函数对蘑菇进行有毒和无毒的简单分类   \n",
    "\n",
    "- 数据来源： https://www.kaggle.com/uciml/mushroom-classification/data  \n",
    "- 对比模型： 随机森林，决策树，Logistic回归模型"
   ]
  },
  {
   "cell_type": "code",
   "execution_count": 1,
   "metadata": {
    "_cell_guid": "22342656-0ac2-46c7-831d-e47ed41ce386",
    "_uuid": "1b4a526f0bd66ca21a505f9a2cf28f061a405135"
   },
   "outputs": [],
   "source": [
    "\n",
    "%matplotlib inline\n",
    "import os\n",
    "import numpy as np\n",
    "import pandas as pd\n",
    "import matplotlib.pyplot as plt\n",
    "\n",
    "from sklearn.preprocessing import LabelEncoder, StandardScaler\n",
    "from sklearn.ensemble import RandomForestClassifier\n",
    "from sklearn.tree import DecisionTreeClassifier\n",
    "from sklearn.linear_model import LogisticRegression\n",
    "from sklearn.model_selection import cross_val_score\n",
    "\n",
    "np.random.seed(19)"
   ]
  },
  {
   "cell_type": "markdown",
   "metadata": {
    "_cell_guid": "b24171e4-ea75-413f-b5b6-c929903c1ed7",
    "_uuid": "36cf0484e28fc5cb72786c696e50e67b8b2f830b"
   },
   "source": [
    "### 读入数据"
   ]
  },
  {
   "cell_type": "code",
   "execution_count": 3,
   "metadata": {
    "_cell_guid": "d469f140-dd0a-4463-a98f-0f25e42021a2",
    "_uuid": "d802bd075431e3a9dfa2d81a452087db10b0d5eb"
   },
   "outputs": [],
   "source": [
    "data_folder = \"\"\n",
    "#data_folder = \"data\"\n",
    "data = pd.read_csv(os.path.join(data_folder, \"mushrooms.csv\"), header=None)\n"
   ]
  },
  {
   "cell_type": "code",
   "execution_count": 4,
   "metadata": {
    "_cell_guid": "39b93c00-dcbb-41e7-85eb-4a457d6a552b",
    "_uuid": "55530d859d56e1ce9b580c06d610501aed4d66a1"
   },
   "outputs": [
    {
     "data": {
      "text/html": [
       "<div>\n",
       "<style scoped>\n",
       "    .dataframe tbody tr th:only-of-type {\n",
       "        vertical-align: middle;\n",
       "    }\n",
       "\n",
       "    .dataframe tbody tr th {\n",
       "        vertical-align: top;\n",
       "    }\n",
       "\n",
       "    .dataframe thead th {\n",
       "        text-align: right;\n",
       "    }\n",
       "</style>\n",
       "<table border=\"1\" class=\"dataframe\">\n",
       "  <thead>\n",
       "    <tr style=\"text-align: right;\">\n",
       "      <th></th>\n",
       "      <th>0</th>\n",
       "      <th>1</th>\n",
       "      <th>2</th>\n",
       "      <th>3</th>\n",
       "      <th>4</th>\n",
       "      <th>5</th>\n",
       "      <th>6</th>\n",
       "      <th>7</th>\n",
       "      <th>8</th>\n",
       "      <th>9</th>\n",
       "      <th>...</th>\n",
       "      <th>13</th>\n",
       "      <th>14</th>\n",
       "      <th>15</th>\n",
       "      <th>16</th>\n",
       "      <th>17</th>\n",
       "      <th>18</th>\n",
       "      <th>19</th>\n",
       "      <th>20</th>\n",
       "      <th>21</th>\n",
       "      <th>22</th>\n",
       "    </tr>\n",
       "  </thead>\n",
       "  <tbody>\n",
       "    <tr>\n",
       "      <th>0</th>\n",
       "      <td>class</td>\n",
       "      <td>cap-shape</td>\n",
       "      <td>cap-surface</td>\n",
       "      <td>cap-color</td>\n",
       "      <td>bruises</td>\n",
       "      <td>odor</td>\n",
       "      <td>gill-attachment</td>\n",
       "      <td>gill-spacing</td>\n",
       "      <td>gill-size</td>\n",
       "      <td>gill-color</td>\n",
       "      <td>...</td>\n",
       "      <td>stalk-surface-below-ring</td>\n",
       "      <td>stalk-color-above-ring</td>\n",
       "      <td>stalk-color-below-ring</td>\n",
       "      <td>veil-type</td>\n",
       "      <td>veil-color</td>\n",
       "      <td>ring-number</td>\n",
       "      <td>ring-type</td>\n",
       "      <td>spore-print-color</td>\n",
       "      <td>population</td>\n",
       "      <td>habitat</td>\n",
       "    </tr>\n",
       "    <tr>\n",
       "      <th>1</th>\n",
       "      <td>p</td>\n",
       "      <td>x</td>\n",
       "      <td>s</td>\n",
       "      <td>n</td>\n",
       "      <td>t</td>\n",
       "      <td>p</td>\n",
       "      <td>f</td>\n",
       "      <td>c</td>\n",
       "      <td>n</td>\n",
       "      <td>k</td>\n",
       "      <td>...</td>\n",
       "      <td>s</td>\n",
       "      <td>w</td>\n",
       "      <td>w</td>\n",
       "      <td>p</td>\n",
       "      <td>w</td>\n",
       "      <td>o</td>\n",
       "      <td>p</td>\n",
       "      <td>k</td>\n",
       "      <td>s</td>\n",
       "      <td>u</td>\n",
       "    </tr>\n",
       "    <tr>\n",
       "      <th>2</th>\n",
       "      <td>e</td>\n",
       "      <td>x</td>\n",
       "      <td>s</td>\n",
       "      <td>y</td>\n",
       "      <td>t</td>\n",
       "      <td>a</td>\n",
       "      <td>f</td>\n",
       "      <td>c</td>\n",
       "      <td>b</td>\n",
       "      <td>k</td>\n",
       "      <td>...</td>\n",
       "      <td>s</td>\n",
       "      <td>w</td>\n",
       "      <td>w</td>\n",
       "      <td>p</td>\n",
       "      <td>w</td>\n",
       "      <td>o</td>\n",
       "      <td>p</td>\n",
       "      <td>n</td>\n",
       "      <td>n</td>\n",
       "      <td>g</td>\n",
       "    </tr>\n",
       "    <tr>\n",
       "      <th>3</th>\n",
       "      <td>e</td>\n",
       "      <td>b</td>\n",
       "      <td>s</td>\n",
       "      <td>w</td>\n",
       "      <td>t</td>\n",
       "      <td>l</td>\n",
       "      <td>f</td>\n",
       "      <td>c</td>\n",
       "      <td>b</td>\n",
       "      <td>n</td>\n",
       "      <td>...</td>\n",
       "      <td>s</td>\n",
       "      <td>w</td>\n",
       "      <td>w</td>\n",
       "      <td>p</td>\n",
       "      <td>w</td>\n",
       "      <td>o</td>\n",
       "      <td>p</td>\n",
       "      <td>n</td>\n",
       "      <td>n</td>\n",
       "      <td>m</td>\n",
       "    </tr>\n",
       "    <tr>\n",
       "      <th>4</th>\n",
       "      <td>p</td>\n",
       "      <td>x</td>\n",
       "      <td>y</td>\n",
       "      <td>w</td>\n",
       "      <td>t</td>\n",
       "      <td>p</td>\n",
       "      <td>f</td>\n",
       "      <td>c</td>\n",
       "      <td>n</td>\n",
       "      <td>n</td>\n",
       "      <td>...</td>\n",
       "      <td>s</td>\n",
       "      <td>w</td>\n",
       "      <td>w</td>\n",
       "      <td>p</td>\n",
       "      <td>w</td>\n",
       "      <td>o</td>\n",
       "      <td>p</td>\n",
       "      <td>k</td>\n",
       "      <td>s</td>\n",
       "      <td>u</td>\n",
       "    </tr>\n",
       "  </tbody>\n",
       "</table>\n",
       "<p>5 rows × 23 columns</p>\n",
       "</div>"
      ],
      "text/plain": [
       "      0          1            2          3        4     5                6   \\\n",
       "0  class  cap-shape  cap-surface  cap-color  bruises  odor  gill-attachment   \n",
       "1      p          x            s          n        t     p                f   \n",
       "2      e          x            s          y        t     a                f   \n",
       "3      e          b            s          w        t     l                f   \n",
       "4      p          x            y          w        t     p                f   \n",
       "\n",
       "             7          8           9   ...                        13  \\\n",
       "0  gill-spacing  gill-size  gill-color  ...  stalk-surface-below-ring   \n",
       "1             c          n           k  ...                         s   \n",
       "2             c          b           k  ...                         s   \n",
       "3             c          b           n  ...                         s   \n",
       "4             c          n           n  ...                         s   \n",
       "\n",
       "                       14                      15         16          17  \\\n",
       "0  stalk-color-above-ring  stalk-color-below-ring  veil-type  veil-color   \n",
       "1                       w                       w          p           w   \n",
       "2                       w                       w          p           w   \n",
       "3                       w                       w          p           w   \n",
       "4                       w                       w          p           w   \n",
       "\n",
       "            18         19                 20          21       22  \n",
       "0  ring-number  ring-type  spore-print-color  population  habitat  \n",
       "1            o          p                  k           s        u  \n",
       "2            o          p                  n           n        g  \n",
       "3            o          p                  n           n        m  \n",
       "4            o          p                  k           s        u  \n",
       "\n",
       "[5 rows x 23 columns]"
      ]
     },
     "execution_count": 4,
     "metadata": {},
     "output_type": "execute_result"
    }
   ],
   "source": [
    "data.head()"
   ]
  },
  {
   "cell_type": "markdown",
   "metadata": {
    "_cell_guid": "6483207b-2123-4c45-93de-c1f69ad543aa",
    "_uuid": "feccc26dc5088ee898c2135ed76583892f05fc7f"
   },
   "source": [
    "### 处理二分类问题的标签"
   ]
  },
  {
   "cell_type": "code",
   "execution_count": 5,
   "metadata": {
    "_cell_guid": "1ab00fe1-55cd-45be-a018-2b49e6eb3cb4",
    "_uuid": "172ac09bc017fb7f01656ee289cda0b3fec86691"
   },
   "outputs": [
    {
     "ename": "SyntaxError",
     "evalue": "invalid syntax (<ipython-input-5-5598c548c584>, line 1)",
     "output_type": "error",
     "traceback": [
      "\u001b[0;36m  File \u001b[0;32m\"<ipython-input-5-5598c548c584>\"\u001b[0;36m, line \u001b[0;32m1\u001b[0m\n\u001b[0;31m    data[0] =\u001b[0m\n\u001b[0m              ^\u001b[0m\n\u001b[0;31mSyntaxError\u001b[0m\u001b[0;31m:\u001b[0m invalid syntax\n"
     ]
    }
   ],
   "source": [
    "data[0] = "
   ]
  },
  {
   "cell_type": "markdown",
   "metadata": {
    "_cell_guid": "e479c603-b5b5-406b-b143-10aadbaf4dad",
    "_uuid": "2ba3307b9a52cf72755714640119040a958fa213"
   },
   "source": [
    "### 处理每列的数据"
   ]
  },
  {
   "cell_type": "code",
   "execution_count": null,
   "metadata": {
    "_cell_guid": "042c9a16-82c5-45fe-ba14-07e9c9d8096c",
    "_uuid": "6c0fb0d96075c14cec4231b219307b4e029cb272",
    "collapsed": true
   },
   "outputs": [],
   "source": [
    "# 每一列如果有null，用\"missing\"代替\n",
    "cols = np.arange(1,23)\n",
    "for col in cols:\n",
    "    if np.any(data[col].isnull()):\n",
    "        #TODO\n"
   ]
  },
  {
   "cell_type": "code",
   "execution_count": null,
   "metadata": {
    "_cell_guid": "46e3e77e-845a-4cb5-b710-7431a42cdcca",
    "_uuid": "5aa66bc10bab880025b92d903e5c4db02a8f5468",
    "collapsed": true
   },
   "outputs": [],
   "source": [
    "labelEncoders = dict()\n",
    "\n",
    "# 对每一列进行label encoding\n",
    "for col in cols:\n",
    "    encoder = #TODO\n",
    "    values = #TODO\n",
    "    values.append('missing')  #加入missing这种值\n",
    "    encoder.fit(values)\n",
    "    labelEncoders[col] = encoder\n",
    "\n",
    "# 计算label encoding之后的列数\n",
    "dimensionality = 0\n",
    "for col, encoder in labelEncoders.items():\n",
    "    dimensionality += len(encoder.classes_)\n",
    "print(\"dimensionality:  %d\" % (dimensionality))"
   ]
  },
  {
   "cell_type": "code",
   "execution_count": null,
   "metadata": {
    "_cell_guid": "38f69f38-d5bf-4ed3-9e45-1ad701521050",
    "_uuid": "6c530e4a25fb4ee8886af2b8386730e314f30877",
    "collapsed": true
   },
   "outputs": [],
   "source": [
    "# 用于测试数据的变换\n",
    "def transform(df):\n",
    "    N, _ = df.shape\n",
    "    X = np.zeros((N, dimensionality))\n",
    "    i = 0\n",
    "    for col ,encoder in labelEncoders.items():\n",
    "        k =  #TODO\n",
    "        X[np.arange(N), encoder.transform(df[col]) + i] = # TODO\n",
    "        i =  #TODO\n",
    "    return X"
   ]
  },
  {
   "cell_type": "code",
   "execution_count": null,
   "metadata": {
    "_cell_guid": "de4172f6-69f8-4cfb-923e-b0b024e4e68c",
    "_uuid": "4972401d6653c6a511793305931341cea1ec674f",
    "collapsed": true
   },
   "outputs": [],
   "source": [
    "# 准备数据和标签\n",
    "X = # TODO\n",
    "Y = data[0].as_matrix()"
   ]
  },
  {
   "cell_type": "markdown",
   "metadata": {
    "_cell_guid": "0f1e51db-d370-475a-be12-0c8fbf4e0ffd",
    "_uuid": "3dc3bb76697ff77fa28f3c2af8b451e44c3696ad"
   },
   "source": [
    "### Logistic回归的表现"
   ]
  },
  {
   "cell_type": "code",
   "execution_count": null,
   "metadata": {
    "_cell_guid": "c5665411-6d05-4937-8c26-6786fc188074",
    "_uuid": "5bc6d8d966059c81e6a017bd2a335a78c08e3e28",
    "collapsed": true
   },
   "outputs": [],
   "source": [
    "logistic_model = #TODO\n",
    "print(\"logistic Regression performance: %f\" % (cross_val_score(logistic_model, X, Y, cv=8).mean()))"
   ]
  },
  {
   "cell_type": "markdown",
   "metadata": {
    "_cell_guid": "d13c93d0-b6b1-4f88-a8e7-b9f93c832cec",
    "_uuid": "b013bf2191e09a9fc86d878651533825618790d5"
   },
   "source": [
    "### 决策树的表现"
   ]
  },
  {
   "cell_type": "code",
   "execution_count": null,
   "metadata": {
    "_cell_guid": "d3cca655-3236-4631-ac45-3a557f5a03b2",
    "_uuid": "8246fd997df3f14adf9a71351d7b49bbd5b10052",
    "collapsed": true
   },
   "outputs": [],
   "source": [
    "tree_model = #TODO\n",
    "print(\"Decision Tree performance: %f\" % (cross_val_score(tree_model, X, Y, cv=8).mean()))"
   ]
  },
  {
   "cell_type": "markdown",
   "metadata": {
    "_cell_guid": "bfc7c095-e435-4de7-ae11-e579fdab9710",
    "_uuid": "44d61eac55c0b75e78dfaa15dcc9b1975872914c"
   },
   "source": [
    "### 随机森林的表现"
   ]
  },
  {
   "cell_type": "code",
   "execution_count": null,
   "metadata": {
    "_cell_guid": "f69f9a59-6d9e-497e-862c-6edd2eb5554a",
    "_uuid": "38ac8228b176dbefee56cabfd0dfe8058d9a6430",
    "collapsed": true
   },
   "outputs": [],
   "source": [
    "forest = #TODO\n",
    "print(\"Random Forest performance: %f\" % (cross_val_score(tree_model, X, Y, cv=8).mean()))"
   ]
  },
  {
   "cell_type": "code",
   "execution_count": null,
   "metadata": {
    "_cell_guid": "372e1822-4db0-4cb9-9859-70541554ba34",
    "_uuid": "257e3d08bb785e67ce90b5453fcb709a4da4122a",
    "collapsed": true
   },
   "outputs": [],
   "source": []
  },
  {
   "cell_type": "markdown",
   "metadata": {
    "_cell_guid": "898a4a05-e21e-4436-b1db-2e183551ca0b",
    "_uuid": "b49cee2b8e1d0ed4c2f923eef25018ca08c94434"
   },
   "source": [
    "### Bagging决策树的实现"
   ]
  },
  {
   "cell_type": "code",
   "execution_count": null,
   "metadata": {
    "_cell_guid": "52414421-0774-404e-a2bd-f65cc1688f25",
    "_uuid": "35cc363cc85a65a85efa05c70842a6f22fc9410c",
    "collapsed": true
   },
   "outputs": [],
   "source": [
    "class BaggedTreeClassifier(BaseEstimator):\n",
    "    def __init__(self, M):\n",
    "        self.M = M\n",
    "\n",
    "    def fit(self, X, Y):\n",
    "        N = len(X)\n",
    "        self.models = []\n",
    "        for m in range(self.M):\n",
    "            idx = np.random.choice(N, size=N, replace=True)\n",
    "            Xb = X[idx]\n",
    "            Yb = Y[idx]\n",
    "\n",
    "            model = DecisionTreeClassifier(max_depth=2)\n",
    "            model.fit(Xb, Yb)\n",
    "            self.models.append(model)\n",
    "\n",
    "    def predict(self, X):\n",
    "        # no need to keep a dictionary since we are doing binary classification\n",
    "        predictions = np.zeros(len(X))\n",
    "        for model in self.models:\n",
    "            predictions += model.predict(X)\n",
    "        return np.round(predictions / self.M)\n",
    "\n",
    "    def score(self, X, Y):\n",
    "        P = self.predict(X)\n",
    "        return np.mean(Y == P)"
   ]
  },
  {
   "cell_type": "code",
   "execution_count": null,
   "metadata": {
    "_cell_guid": "fc98fe56-250d-4d3e-9413-e31146d773e6",
    "_uuid": "f457c7ce626af5577afca88b4e18283c830321d6",
    "collapsed": true
   },
   "outputs": [],
   "source": [
    "baggedtc = BaggedTreeClassifier(20)"
   ]
  },
  {
   "cell_type": "code",
   "execution_count": null,
   "metadata": {
    "_cell_guid": "ee3abbdf-31ac-473c-b62d-f82b2b3c3680",
    "_uuid": "8628a3b76612b015839fd01220f5153bceb76f25",
    "collapsed": true
   },
   "outputs": [],
   "source": [
    "cross_val_score(baggedtc, X, Y, cv=8).mean()"
   ]
  },
  {
   "cell_type": "code",
   "execution_count": null,
   "metadata": {
    "_cell_guid": "de35b0da-9ba0-4135-b0f7-fdc5dce736b7",
    "_uuid": "53c5d25e8af302a523971cafd9f44df35210394a",
    "collapsed": true
   },
   "outputs": [],
   "source": [
    "fakerf = FakeRandomForest(20)"
   ]
  },
  {
   "cell_type": "code",
   "execution_count": null,
   "metadata": {
    "_cell_guid": "b8271176-c42f-4ff6-994b-75a2aa693c88",
    "_uuid": "3e4b27d1a6db429434a00868713f6b18f3df2704",
    "collapsed": true
   },
   "outputs": [],
   "source": [
    "cross_val_score(fakerf, X, Y, cv=8).mean()"
   ]
  }
 ],
 "metadata": {
  "kernelspec": {
   "display_name": "Python 3",
   "language": "python",
   "name": "python3"
  },
  "language_info": {
   "codemirror_mode": {
    "name": "ipython",
    "version": 3
   },
   "file_extension": ".py",
   "mimetype": "text/x-python",
   "name": "python",
   "nbconvert_exporter": "python",
   "pygments_lexer": "ipython3",
   "version": "3.8.2"
  }
 },
 "nbformat": 4,
 "nbformat_minor": 1
}
